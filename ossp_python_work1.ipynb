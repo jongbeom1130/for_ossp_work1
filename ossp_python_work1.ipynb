{
 "cells": [
  {
   "cell_type": "code",
   "execution_count": 1,
   "metadata": {},
   "outputs": [
    {
     "data": {
      "text/html": [
       "<div>\n",
       "<style scoped>\n",
       "    .dataframe tbody tr th:only-of-type {\n",
       "        vertical-align: middle;\n",
       "    }\n",
       "\n",
       "    .dataframe tbody tr th {\n",
       "        vertical-align: top;\n",
       "    }\n",
       "\n",
       "    .dataframe thead th {\n",
       "        text-align: right;\n",
       "    }\n",
       "</style>\n",
       "<table border=\"1\" class=\"dataframe\">\n",
       "  <thead>\n",
       "    <tr style=\"text-align: right;\">\n",
       "      <th></th>\n",
       "      <th>CRIM</th>\n",
       "      <th>ZN</th>\n",
       "      <th>INDUS</th>\n",
       "      <th>CHAS</th>\n",
       "      <th>NOX</th>\n",
       "      <th>RM</th>\n",
       "      <th>AGE</th>\n",
       "      <th>DIS</th>\n",
       "      <th>RAD</th>\n",
       "      <th>TAX</th>\n",
       "      <th>PTRATIO</th>\n",
       "      <th>B</th>\n",
       "      <th>LSTAT</th>\n",
       "      <th>MEDV</th>\n",
       "    </tr>\n",
       "  </thead>\n",
       "  <tbody>\n",
       "    <tr>\n",
       "      <th>0</th>\n",
       "      <td>0.00632</td>\n",
       "      <td>18.0</td>\n",
       "      <td>2.31</td>\n",
       "      <td>0</td>\n",
       "      <td>0.538</td>\n",
       "      <td>6.575</td>\n",
       "      <td>65.2</td>\n",
       "      <td>4.0900</td>\n",
       "      <td>1</td>\n",
       "      <td>296</td>\n",
       "      <td>15.3</td>\n",
       "      <td>396.90</td>\n",
       "      <td>4.98</td>\n",
       "      <td>24.0</td>\n",
       "    </tr>\n",
       "    <tr>\n",
       "      <th>1</th>\n",
       "      <td>0.02731</td>\n",
       "      <td>0.0</td>\n",
       "      <td>7.07</td>\n",
       "      <td>0</td>\n",
       "      <td>0.469</td>\n",
       "      <td>6.421</td>\n",
       "      <td>78.9</td>\n",
       "      <td>4.9671</td>\n",
       "      <td>2</td>\n",
       "      <td>242</td>\n",
       "      <td>17.8</td>\n",
       "      <td>396.90</td>\n",
       "      <td>9.14</td>\n",
       "      <td>21.6</td>\n",
       "    </tr>\n",
       "    <tr>\n",
       "      <th>2</th>\n",
       "      <td>0.02729</td>\n",
       "      <td>0.0</td>\n",
       "      <td>7.07</td>\n",
       "      <td>0</td>\n",
       "      <td>0.469</td>\n",
       "      <td>7.185</td>\n",
       "      <td>61.1</td>\n",
       "      <td>4.9671</td>\n",
       "      <td>2</td>\n",
       "      <td>242</td>\n",
       "      <td>17.8</td>\n",
       "      <td>392.83</td>\n",
       "      <td>4.03</td>\n",
       "      <td>34.7</td>\n",
       "    </tr>\n",
       "    <tr>\n",
       "      <th>3</th>\n",
       "      <td>0.03237</td>\n",
       "      <td>0.0</td>\n",
       "      <td>2.18</td>\n",
       "      <td>0</td>\n",
       "      <td>0.458</td>\n",
       "      <td>6.998</td>\n",
       "      <td>45.8</td>\n",
       "      <td>6.0622</td>\n",
       "      <td>3</td>\n",
       "      <td>222</td>\n",
       "      <td>18.7</td>\n",
       "      <td>394.63</td>\n",
       "      <td>2.94</td>\n",
       "      <td>33.4</td>\n",
       "    </tr>\n",
       "    <tr>\n",
       "      <th>4</th>\n",
       "      <td>0.06905</td>\n",
       "      <td>0.0</td>\n",
       "      <td>2.18</td>\n",
       "      <td>0</td>\n",
       "      <td>0.458</td>\n",
       "      <td>7.147</td>\n",
       "      <td>54.2</td>\n",
       "      <td>6.0622</td>\n",
       "      <td>3</td>\n",
       "      <td>222</td>\n",
       "      <td>18.7</td>\n",
       "      <td>396.90</td>\n",
       "      <td>5.33</td>\n",
       "      <td>36.2</td>\n",
       "    </tr>\n",
       "    <tr>\n",
       "      <th>...</th>\n",
       "      <td>...</td>\n",
       "      <td>...</td>\n",
       "      <td>...</td>\n",
       "      <td>...</td>\n",
       "      <td>...</td>\n",
       "      <td>...</td>\n",
       "      <td>...</td>\n",
       "      <td>...</td>\n",
       "      <td>...</td>\n",
       "      <td>...</td>\n",
       "      <td>...</td>\n",
       "      <td>...</td>\n",
       "      <td>...</td>\n",
       "      <td>...</td>\n",
       "    </tr>\n",
       "    <tr>\n",
       "      <th>506</th>\n",
       "      <td>0.98765</td>\n",
       "      <td>0.0</td>\n",
       "      <td>12.50</td>\n",
       "      <td>0</td>\n",
       "      <td>0.561</td>\n",
       "      <td>6.980</td>\n",
       "      <td>89.0</td>\n",
       "      <td>2.0980</td>\n",
       "      <td>3</td>\n",
       "      <td>320</td>\n",
       "      <td>23.0</td>\n",
       "      <td>396.00</td>\n",
       "      <td>12.00</td>\n",
       "      <td>12.0</td>\n",
       "    </tr>\n",
       "    <tr>\n",
       "      <th>507</th>\n",
       "      <td>0.23456</td>\n",
       "      <td>0.0</td>\n",
       "      <td>12.50</td>\n",
       "      <td>0</td>\n",
       "      <td>0.561</td>\n",
       "      <td>6.980</td>\n",
       "      <td>76.0</td>\n",
       "      <td>2.6540</td>\n",
       "      <td>3</td>\n",
       "      <td>320</td>\n",
       "      <td>23.0</td>\n",
       "      <td>343.00</td>\n",
       "      <td>25.00</td>\n",
       "      <td>32.0</td>\n",
       "    </tr>\n",
       "    <tr>\n",
       "      <th>508</th>\n",
       "      <td>0.44433</td>\n",
       "      <td>0.0</td>\n",
       "      <td>12.50</td>\n",
       "      <td>0</td>\n",
       "      <td>0.561</td>\n",
       "      <td>6.123</td>\n",
       "      <td>98.0</td>\n",
       "      <td>2.9870</td>\n",
       "      <td>3</td>\n",
       "      <td>320</td>\n",
       "      <td>23.0</td>\n",
       "      <td>343.00</td>\n",
       "      <td>21.00</td>\n",
       "      <td>54.0</td>\n",
       "    </tr>\n",
       "    <tr>\n",
       "      <th>509</th>\n",
       "      <td>0.77763</td>\n",
       "      <td>0.0</td>\n",
       "      <td>12.70</td>\n",
       "      <td>0</td>\n",
       "      <td>0.561</td>\n",
       "      <td>6.222</td>\n",
       "      <td>34.0</td>\n",
       "      <td>2.5430</td>\n",
       "      <td>3</td>\n",
       "      <td>329</td>\n",
       "      <td>23.0</td>\n",
       "      <td>343.00</td>\n",
       "      <td>76.00</td>\n",
       "      <td>67.0</td>\n",
       "    </tr>\n",
       "    <tr>\n",
       "      <th>510</th>\n",
       "      <td>0.65432</td>\n",
       "      <td>0.0</td>\n",
       "      <td>12.80</td>\n",
       "      <td>0</td>\n",
       "      <td>0.561</td>\n",
       "      <td>6.760</td>\n",
       "      <td>67.0</td>\n",
       "      <td>2.9870</td>\n",
       "      <td>3</td>\n",
       "      <td>345</td>\n",
       "      <td>23.0</td>\n",
       "      <td>321.00</td>\n",
       "      <td>45.00</td>\n",
       "      <td>24.0</td>\n",
       "    </tr>\n",
       "  </tbody>\n",
       "</table>\n",
       "<p>511 rows × 14 columns</p>\n",
       "</div>"
      ],
      "text/plain": [
       "        CRIM    ZN  INDUS  CHAS    NOX     RM   AGE     DIS  RAD  TAX  \\\n",
       "0    0.00632  18.0   2.31     0  0.538  6.575  65.2  4.0900    1  296   \n",
       "1    0.02731   0.0   7.07     0  0.469  6.421  78.9  4.9671    2  242   \n",
       "2    0.02729   0.0   7.07     0  0.469  7.185  61.1  4.9671    2  242   \n",
       "3    0.03237   0.0   2.18     0  0.458  6.998  45.8  6.0622    3  222   \n",
       "4    0.06905   0.0   2.18     0  0.458  7.147  54.2  6.0622    3  222   \n",
       "..       ...   ...    ...   ...    ...    ...   ...     ...  ...  ...   \n",
       "506  0.98765   0.0  12.50     0  0.561  6.980  89.0  2.0980    3  320   \n",
       "507  0.23456   0.0  12.50     0  0.561  6.980  76.0  2.6540    3  320   \n",
       "508  0.44433   0.0  12.50     0  0.561  6.123  98.0  2.9870    3  320   \n",
       "509  0.77763   0.0  12.70     0  0.561  6.222  34.0  2.5430    3  329   \n",
       "510  0.65432   0.0  12.80     0  0.561  6.760  67.0  2.9870    3  345   \n",
       "\n",
       "     PTRATIO       B  LSTAT  MEDV  \n",
       "0       15.3  396.90   4.98  24.0  \n",
       "1       17.8  396.90   9.14  21.6  \n",
       "2       17.8  392.83   4.03  34.7  \n",
       "3       18.7  394.63   2.94  33.4  \n",
       "4       18.7  396.90   5.33  36.2  \n",
       "..       ...     ...    ...   ...  \n",
       "506     23.0  396.00  12.00  12.0  \n",
       "507     23.0  343.00  25.00  32.0  \n",
       "508     23.0  343.00  21.00  54.0  \n",
       "509     23.0  343.00  76.00  67.0  \n",
       "510     23.0  321.00  45.00  24.0  \n",
       "\n",
       "[511 rows x 14 columns]"
      ]
     },
     "execution_count": 1,
     "metadata": {},
     "output_type": "execute_result"
    }
   ],
   "source": [
    "import pandas as pd\n",
    "df=pd.read_csv('home.csv')\n",
    "df"
   ]
  },
  {
   "cell_type": "markdown",
   "metadata": {},
   "source": [
    "결측치 확인"
   ]
  },
  {
   "cell_type": "code",
   "execution_count": 2,
   "metadata": {},
   "outputs": [
    {
     "name": "stdout",
     "output_type": "stream",
     "text": [
      "<class 'pandas.core.frame.DataFrame'>\n",
      "RangeIndex: 511 entries, 0 to 510\n",
      "Data columns (total 14 columns):\n",
      " #   Column   Non-Null Count  Dtype  \n",
      "---  ------   --------------  -----  \n",
      " 0   CRIM     511 non-null    float64\n",
      " 1   ZN       511 non-null    float64\n",
      " 2   INDUS    511 non-null    float64\n",
      " 3   CHAS     511 non-null    int64  \n",
      " 4   NOX      511 non-null    float64\n",
      " 5   RM       506 non-null    float64\n",
      " 6   AGE      511 non-null    float64\n",
      " 7   DIS      511 non-null    float64\n",
      " 8   RAD      511 non-null    int64  \n",
      " 9   TAX      511 non-null    int64  \n",
      " 10  PTRATIO  511 non-null    float64\n",
      " 11  B        511 non-null    float64\n",
      " 12  LSTAT    511 non-null    float64\n",
      " 13  MEDV     511 non-null    float64\n",
      "dtypes: float64(11), int64(3)\n",
      "memory usage: 56.0 KB\n"
     ]
    }
   ],
   "source": [
    "df.info()"
   ]
  },
  {
   "cell_type": "markdown",
   "metadata": {},
   "source": [
    "이상치 확인"
   ]
  },
  {
   "cell_type": "code",
   "execution_count": 3,
   "metadata": {},
   "outputs": [
    {
     "name": "stdout",
     "output_type": "stream",
     "text": [
      "3.584138577299414\n",
      "8.564433333509854\n",
      "88.9762\n",
      "0.00632\n",
      "-22.109161423230148\n",
      "29.277438577828974\n"
     ]
    }
   ],
   "source": [
    "print(df['CRIM'].mean())\n",
    "print(df['CRIM'].std())\n",
    "print(df['CRIM'].max())\n",
    "print(df['CRIM'].min())\n",
    "bottom_CRIM=df['CRIM'].mean()-3*df['CRIM'].std()\n",
    "print(bottom_CRIM)\n",
    "top_CRIM=df['CRIM'].mean()+3*df['CRIM'].std()\n",
    "print(top_CRIM)\n",
    "\n"
   ]
  },
  {
   "cell_type": "code",
   "execution_count": 4,
   "metadata": {},
   "outputs": [
    {
     "name": "stdout",
     "output_type": "stream",
     "text": [
      "11.252446183953033\n",
      "23.234838381032066\n",
      "100.0\n",
      "0.0\n",
      "-58.45206895914317\n",
      "80.95696132704924\n"
     ]
    }
   ],
   "source": [
    "print(df['ZN'].mean())\n",
    "print(df['ZN'].std())\n",
    "print(df['ZN'].max())\n",
    "print(df['ZN'].min())\n",
    "bottom_ZN=df['ZN'].mean()-3*df['ZN'].std()\n",
    "print(bottom_ZN)\n",
    "top_ZN=df['ZN'].mean()+3*df['ZN'].std()\n",
    "print(top_ZN)"
   ]
  },
  {
   "cell_type": "code",
   "execution_count": 5,
   "metadata": {},
   "outputs": [
    {
     "name": "stdout",
     "output_type": "stream",
     "text": [
      "11.15109589041098\n",
      "6.828174588309407\n",
      "27.74\n",
      "0.46\n",
      "-9.33342787451724\n",
      "31.635619655339198\n"
     ]
    }
   ],
   "source": [
    "print(df['INDUS'].mean())\n",
    "print(df['INDUS'].std())\n",
    "print(df['INDUS'].max())\n",
    "print(df['INDUS'].min())\n",
    "bottom_INDUS=df['INDUS'].mean()-3*df['INDUS'].std()\n",
    "print(bottom_INDUS)\n",
    "top_INDUS=df['INDUS'].mean()+3*df['INDUS'].std()\n",
    "print(top_INDUS)"
   ]
  },
  {
   "cell_type": "code",
   "execution_count": 6,
   "metadata": {},
   "outputs": [
    {
     "name": "stdout",
     "output_type": "stream",
     "text": [
      "0.5547567514677099\n",
      "0.11530992214681592\n",
      "0.871\n",
      "0.385\n",
      "0.2088269850272621\n",
      "0.9006865179081576\n"
     ]
    }
   ],
   "source": [
    "print(df['NOX'].mean())\n",
    "print(df['NOX'].std())\n",
    "print(df['NOX'].max())\n",
    "print(df['NOX'].min())\n",
    "bottom_NOX=df['NOX'].mean()-3*df['NOX'].std()\n",
    "print(bottom_NOX)\n",
    "top_NOX=df['NOX'].mean()+3*df['NOX'].std()\n",
    "print(top_NOX)"
   ]
  },
  {
   "cell_type": "code",
   "execution_count": 7,
   "metadata": {},
   "outputs": [
    {
     "name": "stdout",
     "output_type": "stream",
     "text": [
      "6.287588932806333\n",
      "0.7038016463619766\n",
      "8.78\n",
      "3.5610000000000004\n",
      "4.176183993720404\n",
      "8.398993871892262\n"
     ]
    }
   ],
   "source": [
    "print(df['RM'].mean())\n",
    "print(df['RM'].std())\n",
    "print(df['RM'].max())\n",
    "print(df['RM'].min())\n",
    "bottom_RM=df['RM'].mean()-3*df['RM'].std()\n",
    "print(bottom_RM)\n",
    "top_RM=df['RM'].mean()+3*df['RM'].std()\n",
    "print(top_RM)"
   ]
  },
  {
   "cell_type": "code",
   "execution_count": 8,
   "metadata": {},
   "outputs": [
    {
     "name": "stdout",
     "output_type": "stream",
     "text": [
      "68.61624266144817\n",
      "28.09913037471998\n",
      "100.0\n",
      "2.9\n",
      "-15.681148462711775\n",
      "152.9136337856081\n"
     ]
    }
   ],
   "source": [
    "print(df['AGE'].mean())\n",
    "print(df['AGE'].std())\n",
    "print(df['AGE'].max())\n",
    "print(df['AGE'].min())\n",
    "bottom_AGE=df['AGE'].mean()-3*df['AGE'].std()\n",
    "print(bottom_AGE)\n",
    "top_AGE=df['AGE'].mean()+3*df['AGE'].std()\n",
    "print(top_AGE)"
   ]
  },
  {
   "cell_type": "code",
   "execution_count": 9,
   "metadata": {},
   "outputs": [
    {
     "name": "stdout",
     "output_type": "stream",
     "text": [
      "3.7838759295499003\n",
      "2.09863136242663\n",
      "12.1265\n",
      "1.1296\n",
      "-2.5120181577299903\n",
      "10.07977001682979\n"
     ]
    }
   ],
   "source": [
    "print(df['DIS'].mean())\n",
    "print(df['DIS'].std())\n",
    "print(df['DIS'].max())\n",
    "print(df['DIS'].min())\n",
    "bottom_DIS=df['DIS'].mean()-3*df['DIS'].std()\n",
    "print(bottom_DIS)\n",
    "top_DIS=df['DIS'].mean()+3*df['DIS'].std()\n",
    "print(top_DIS)"
   ]
  },
  {
   "cell_type": "code",
   "execution_count": 10,
   "metadata": {},
   "outputs": [
    {
     "name": "stdout",
     "output_type": "stream",
     "text": [
      "9.4853228962818\n",
      "8.68846879735388\n",
      "24\n",
      "1\n",
      "-16.58008349577984\n",
      "35.55072928834344\n"
     ]
    }
   ],
   "source": [
    "print(df['RAD'].mean())\n",
    "print(df['RAD'].std())\n",
    "print(df['RAD'].max())\n",
    "print(df['RAD'].min())\n",
    "bottom_RAD=df['RAD'].mean()-3*df['RAD'].std()\n",
    "print(bottom_RAD)\n",
    "top_RAD=df['RAD'].mean()+3*df['RAD'].std()\n",
    "print(top_RAD)"
   ]
  },
  {
   "cell_type": "code",
   "execution_count": 11,
   "metadata": {},
   "outputs": [
    {
     "name": "stdout",
     "output_type": "stream",
     "text": [
      "407.440313111546\n",
      "167.9035316492595\n",
      "711\n",
      "187\n",
      "-96.27028183623247\n",
      "911.1509080593245\n"
     ]
    }
   ],
   "source": [
    "print(df['TAX'].mean())\n",
    "print(df['TAX'].std())\n",
    "print(df['TAX'].max())\n",
    "print(df['TAX'].min())\n",
    "bottom_TAX=df['TAX'].mean()-3*df['TAX'].std()\n",
    "print(bottom_TAX)\n",
    "top_TAX=df['TAX'].mean()+3*df['TAX'].std()\n",
    "print(top_TAX)"
   ]
  },
  {
   "cell_type": "code",
   "execution_count": 12,
   "metadata": {},
   "outputs": [
    {
     "name": "stdout",
     "output_type": "stream",
     "text": [
      "18.50000000000002\n",
      "2.2003475661278347\n",
      "23.0\n",
      "12.6\n",
      "11.898957301616518\n",
      "25.101042698383523\n"
     ]
    }
   ],
   "source": [
    "print(df['PTRATIO'].mean())\n",
    "print(df['PTRATIO'].std())\n",
    "print(df['PTRATIO'].max())\n",
    "print(df['PTRATIO'].min())\n",
    "bottom_PTRATIO=df['PTRATIO'].mean()-3*df['PTRATIO'].std()\n",
    "print(bottom_PTRATIO)\n",
    "top_PTRATIO=df['PTRATIO'].mean()+3*df['PTRATIO'].std()\n",
    "print(top_PTRATIO)"
   ]
  },
  {
   "cell_type": "code",
   "execution_count": 13,
   "metadata": {},
   "outputs": [
    {
     "name": "stdout",
     "output_type": "stream",
     "text": [
      "356.6009001956939\n",
      "90.88267879563413\n",
      "396.9\n",
      "0.32\n",
      "83.9528638087915\n",
      "629.2489365825963\n"
     ]
    }
   ],
   "source": [
    "print(df['B'].mean())\n",
    "print(df['B'].std())\n",
    "print(df['B'].max())\n",
    "print(df['B'].min())\n",
    "bottom_B=df['B'].mean()-3*df['B'].std()\n",
    "print(bottom_B)\n",
    "top_B=df['B'].mean()+3*df['B'].std()\n",
    "print(top_B)"
   ]
  },
  {
   "cell_type": "code",
   "execution_count": 14,
   "metadata": {},
   "outputs": [
    {
     "name": "stdout",
     "output_type": "stream",
     "text": [
      "12.879549902152645\n",
      "7.797415936527357\n",
      "76.0\n",
      "1.73\n",
      "-10.512697907429425\n",
      "36.27179771173471\n"
     ]
    }
   ],
   "source": [
    "print(df['LSTAT'].mean())\n",
    "print(df['LSTAT'].std())\n",
    "print(df['LSTAT'].max())\n",
    "print(df['LSTAT'].min())\n",
    "bottom_LSTAT=df['LSTAT'].mean()-3*df['LSTAT'].std()\n",
    "print(bottom_LSTAT)\n",
    "top_LSTAT=df['LSTAT'].mean()+3*df['LSTAT'].std()\n",
    "print(top_LSTAT)"
   ]
  },
  {
   "cell_type": "code",
   "execution_count": 15,
   "metadata": {},
   "outputs": [
    {
     "name": "stdout",
     "output_type": "stream",
     "text": [
      "22.68219178082194\n",
      "9.484262294196043\n",
      "67.0\n",
      "5.0\n",
      "-5.770595101766187\n",
      "51.13497866341007\n"
     ]
    }
   ],
   "source": [
    "print(df['MEDV'].mean())\n",
    "print(df['MEDV'].std())\n",
    "print(df['MEDV'].max())\n",
    "print(df['MEDV'].min())\n",
    "bottom_MEDV=df['MEDV'].mean()-3*df['MEDV'].std()\n",
    "print(bottom_MEDV)\n",
    "top_MEDV=df['MEDV'].mean()+3*df['MEDV'].std()\n",
    "print(top_MEDV)"
   ]
  },
  {
   "cell_type": "markdown",
   "metadata": {},
   "source": [
    "중복값 확인"
   ]
  },
  {
   "cell_type": "code",
   "execution_count": 16,
   "metadata": {},
   "outputs": [],
   "source": [
    "df_a=df.drop_duplicates( )"
   ]
  },
  {
   "cell_type": "code",
   "execution_count": 17,
   "metadata": {},
   "outputs": [
    {
     "name": "stdout",
     "output_type": "stream",
     "text": [
      "<class 'pandas.core.frame.DataFrame'>\n",
      "Int64Index: 511 entries, 0 to 510\n",
      "Data columns (total 14 columns):\n",
      " #   Column   Non-Null Count  Dtype  \n",
      "---  ------   --------------  -----  \n",
      " 0   CRIM     511 non-null    float64\n",
      " 1   ZN       511 non-null    float64\n",
      " 2   INDUS    511 non-null    float64\n",
      " 3   CHAS     511 non-null    int64  \n",
      " 4   NOX      511 non-null    float64\n",
      " 5   RM       506 non-null    float64\n",
      " 6   AGE      511 non-null    float64\n",
      " 7   DIS      511 non-null    float64\n",
      " 8   RAD      511 non-null    int64  \n",
      " 9   TAX      511 non-null    int64  \n",
      " 10  PTRATIO  511 non-null    float64\n",
      " 11  B        511 non-null    float64\n",
      " 12  LSTAT    511 non-null    float64\n",
      " 13  MEDV     511 non-null    float64\n",
      "dtypes: float64(11), int64(3)\n",
      "memory usage: 59.9 KB\n"
     ]
    }
   ],
   "source": [
    "df_a.info()"
   ]
  },
  {
   "cell_type": "markdown",
   "metadata": {},
   "source": [
    "결측값 처리"
   ]
  },
  {
   "cell_type": "code",
   "execution_count": 18,
   "metadata": {},
   "outputs": [
    {
     "data": {
      "text/plain": [
       "6.288"
      ]
     },
     "execution_count": 18,
     "metadata": {},
     "output_type": "execute_result"
    }
   ],
   "source": [
    "round(df['RM'].mean(),3)"
   ]
  },
  {
   "cell_type": "code",
   "execution_count": 19,
   "metadata": {},
   "outputs": [],
   "source": [
    "df['RM'].fillna(round(df['RM'].mean(),3),inplace=True)"
   ]
  },
  {
   "cell_type": "markdown",
   "metadata": {},
   "source": [
    "이상치 처리"
   ]
  },
  {
   "cell_type": "code",
   "execution_count": 20,
   "metadata": {},
   "outputs": [
    {
     "name": "stdout",
     "output_type": "stream",
     "text": [
      "outlier:\n",
      "88.9762\n",
      "38.3518\n",
      "41.5292\n",
      "67.9208\n",
      "51.1358\n",
      "45.7461\n",
      "73.5341\n",
      "37.6619\n"
     ]
    }
   ],
   "source": [
    "print('outlier:')\n",
    "for val in df['CRIM']:\n",
    "    if val>top_CRIM:\n",
    "        print(val)\n",
    "    elif val<bottom_CRIM:\n",
    "        print(val)"
   ]
  },
  {
   "cell_type": "code",
   "execution_count": 21,
   "metadata": {},
   "outputs": [
    {
     "name": "stderr",
     "output_type": "stream",
     "text": [
      "<ipython-input-21-fead1e4ca2e5>:3: SettingWithCopyWarning: \n",
      "A value is trying to be set on a copy of a slice from a DataFrame\n",
      "\n",
      "See the caveats in the documentation: https://pandas.pydata.org/pandas-docs/stable/user_guide/indexing.html#returning-a-view-versus-a-copy\n",
      "  df['CRIM'][i]=df['CRIM'].median()\n"
     ]
    }
   ],
   "source": [
    "for i in range(len(df['CRIM'])):\n",
    "    if df['CRIM'][i]>top_CRIM or df['CRIM'][i]<bottom_CRIM:\n",
    "        df['CRIM'][i]=df['CRIM'].median()"
   ]
  },
  {
   "cell_type": "code",
   "execution_count": 22,
   "metadata": {},
   "outputs": [
    {
     "name": "stdout",
     "output_type": "stream",
     "text": [
      "outlier:\n",
      "90.0\n",
      "85.0\n",
      "100.0\n",
      "95.0\n",
      "95.0\n",
      "82.5\n",
      "82.5\n",
      "95.0\n",
      "95.0\n",
      "90.0\n",
      "90.0\n",
      "90.0\n",
      "85.0\n",
      "90.0\n"
     ]
    }
   ],
   "source": [
    "print('outlier:')\n",
    "for val in df['ZN']:\n",
    "    if val>top_ZN:\n",
    "        print(val)\n",
    "    elif val<bottom_ZN:\n",
    "        print(val)"
   ]
  },
  {
   "cell_type": "code",
   "execution_count": 23,
   "metadata": {},
   "outputs": [
    {
     "name": "stderr",
     "output_type": "stream",
     "text": [
      "<ipython-input-23-6c59252ac04d>:3: SettingWithCopyWarning: \n",
      "A value is trying to be set on a copy of a slice from a DataFrame\n",
      "\n",
      "See the caveats in the documentation: https://pandas.pydata.org/pandas-docs/stable/user_guide/indexing.html#returning-a-view-versus-a-copy\n",
      "  df['ZN'][i]=df['ZN'].mode()\n"
     ]
    }
   ],
   "source": [
    "for i in range(len(df['ZN'])):\n",
    "    if df['ZN'][i]>top_ZN or df['ZN'][i]<bottom_ZN:\n",
    "        df['ZN'][i]=df['ZN'].mode()"
   ]
  },
  {
   "cell_type": "code",
   "execution_count": 24,
   "metadata": {},
   "outputs": [
    {
     "name": "stdout",
     "output_type": "stream",
     "text": [
      "outlier:\n",
      "8.725\n",
      "8.704\n",
      "8.78\n",
      "3.5610000000000004\n",
      "3.863\n",
      "4.138\n",
      "4.138\n"
     ]
    }
   ],
   "source": [
    "print('outlier:')\n",
    "for val in df['RM']:\n",
    "    if val>top_RM:\n",
    "        print(val)\n",
    "    elif val<bottom_RM:\n",
    "        print(val)"
   ]
  },
  {
   "cell_type": "code",
   "execution_count": 25,
   "metadata": {},
   "outputs": [
    {
     "name": "stderr",
     "output_type": "stream",
     "text": [
      "<ipython-input-25-85d1e4f26c61>:3: SettingWithCopyWarning: \n",
      "A value is trying to be set on a copy of a slice from a DataFrame\n",
      "\n",
      "See the caveats in the documentation: https://pandas.pydata.org/pandas-docs/stable/user_guide/indexing.html#returning-a-view-versus-a-copy\n",
      "  df['RM'][i]=df['RM'].mean()\n"
     ]
    }
   ],
   "source": [
    "for i in range(len(df['RM'])):\n",
    "    if df['RM'][i]>top_RM or df['RM'][i]<bottom_RM:\n",
    "        df['RM'][i]=df['RM'].mean()"
   ]
  },
  {
   "cell_type": "code",
   "execution_count": 26,
   "metadata": {},
   "outputs": [
    {
     "name": "stdout",
     "output_type": "stream",
     "text": [
      "outlier:\n",
      "10.7103\n",
      "10.7103\n",
      "12.1265\n",
      "10.5857\n",
      "10.5857\n"
     ]
    }
   ],
   "source": [
    "print('outlier:')\n",
    "for val in df['DIS']:\n",
    "    if val>top_DIS:\n",
    "        print(val)\n",
    "    elif val<bottom_DIS:\n",
    "        print(val)"
   ]
  },
  {
   "cell_type": "code",
   "execution_count": 27,
   "metadata": {},
   "outputs": [
    {
     "name": "stderr",
     "output_type": "stream",
     "text": [
      "<ipython-input-27-d8eb892a6678>:3: SettingWithCopyWarning: \n",
      "A value is trying to be set on a copy of a slice from a DataFrame\n",
      "\n",
      "See the caveats in the documentation: https://pandas.pydata.org/pandas-docs/stable/user_guide/indexing.html#returning-a-view-versus-a-copy\n",
      "  df['DIS'][i]=df['DIS'].median()\n"
     ]
    }
   ],
   "source": [
    "for i in range(len(df['DIS'])):\n",
    "    if df['DIS'][i]>top_DIS or df['DIS'][i]<bottom_DIS:\n",
    "        df['DIS'][i]=df['DIS'].median()"
   ]
  },
  {
   "cell_type": "code",
   "execution_count": 28,
   "metadata": {},
   "outputs": [
    {
     "name": "stdout",
     "output_type": "stream",
     "text": [
      "outlier:\n",
      "70.8\n",
      "2.6\n",
      "35.05\n",
      "28.79\n",
      "27.25\n",
      "21.57\n",
      "16.45\n",
      "48.45\n",
      "2.52\n",
      "3.65\n",
      "7.68\n",
      "24.65\n",
      "18.82\n",
      "60.72\n",
      "83.45\n",
      "81.33\n",
      "27.49\n",
      "9.32\n",
      "68.95\n",
      "43.06\n",
      "0.32\n",
      "6.68\n",
      "50.92\n",
      "10.48\n",
      "3.5\n",
      "22.01\n"
     ]
    }
   ],
   "source": [
    "print('outlier:')\n",
    "for val in df['B']:\n",
    "    if val>top_B:\n",
    "        print(val)\n",
    "    elif val<bottom_B:\n",
    "        print(val)"
   ]
  },
  {
   "cell_type": "code",
   "execution_count": 29,
   "metadata": {},
   "outputs": [
    {
     "name": "stderr",
     "output_type": "stream",
     "text": [
      "<ipython-input-29-8b679bc7ad14>:3: SettingWithCopyWarning: \n",
      "A value is trying to be set on a copy of a slice from a DataFrame\n",
      "\n",
      "See the caveats in the documentation: https://pandas.pydata.org/pandas-docs/stable/user_guide/indexing.html#returning-a-view-versus-a-copy\n",
      "  df['B'][i]=df['B'].median()\n"
     ]
    }
   ],
   "source": [
    "for i in range(len(df['B'])):\n",
    "    if df['B'][i]>top_B or df['B'][i]<bottom_B:\n",
    "        df['B'][i]=df['B'].median()"
   ]
  },
  {
   "cell_type": "code",
   "execution_count": 30,
   "metadata": {},
   "outputs": [
    {
     "name": "stdout",
     "output_type": "stream",
     "text": [
      "outlier:\n",
      "37.97\n",
      "36.98\n",
      "76.0\n",
      "45.0\n"
     ]
    }
   ],
   "source": [
    "print('outlier:')\n",
    "for val in df['LSTAT']:\n",
    "    if val>top_LSTAT:\n",
    "        print(val)\n",
    "    elif val<bottom_LSTAT:\n",
    "        print(val)"
   ]
  },
  {
   "cell_type": "code",
   "execution_count": 31,
   "metadata": {},
   "outputs": [
    {
     "name": "stderr",
     "output_type": "stream",
     "text": [
      "<ipython-input-31-f88993a9ee68>:3: SettingWithCopyWarning: \n",
      "A value is trying to be set on a copy of a slice from a DataFrame\n",
      "\n",
      "See the caveats in the documentation: https://pandas.pydata.org/pandas-docs/stable/user_guide/indexing.html#returning-a-view-versus-a-copy\n",
      "  df['LSTAT'][i]=df['LSTAT'].median()\n"
     ]
    }
   ],
   "source": [
    "for i in range(len(df['LSTAT'])):\n",
    "    if df['LSTAT'][i]>top_LSTAT or df['LSTAT'][i]<bottom_LSTAT:\n",
    "        df['LSTAT'][i]=df['LSTAT'].median()"
   ]
  },
  {
   "cell_type": "code",
   "execution_count": 32,
   "metadata": {},
   "outputs": [
    {
     "name": "stdout",
     "output_type": "stream",
     "text": [
      "outlier:\n",
      "54.0\n",
      "67.0\n"
     ]
    }
   ],
   "source": [
    "print('outlier:')\n",
    "for val in df['MEDV']:\n",
    "    if val>top_MEDV:\n",
    "        print(val)\n",
    "    elif val<bottom_MEDV:\n",
    "        print(val)"
   ]
  },
  {
   "cell_type": "code",
   "execution_count": 33,
   "metadata": {},
   "outputs": [
    {
     "name": "stderr",
     "output_type": "stream",
     "text": [
      "<ipython-input-33-8cfc841fcb51>:3: SettingWithCopyWarning: \n",
      "A value is trying to be set on a copy of a slice from a DataFrame\n",
      "\n",
      "See the caveats in the documentation: https://pandas.pydata.org/pandas-docs/stable/user_guide/indexing.html#returning-a-view-versus-a-copy\n",
      "  df['MEDV'][i]=df['MEDV'].mean()\n"
     ]
    }
   ],
   "source": [
    "for i in range(len(df['MEDV'])):\n",
    "    if df['MEDV'][i]>top_MEDV or df['MEDV'][i]<bottom_MEDV:\n",
    "        df['MEDV'][i]=df['MEDV'].mean()"
   ]
  },
  {
   "cell_type": "code",
   "execution_count": 34,
   "metadata": {},
   "outputs": [],
   "source": [
    "df.to_csv('home_clean.csv',index=False)"
   ]
  }
 ],
 "metadata": {
  "kernelspec": {
   "display_name": "Python 3 (ipykernel)",
   "language": "python",
   "name": "python3"
  },
  "language_info": {
   "codemirror_mode": {
    "name": "ipython",
    "version": 3
   },
   "file_extension": ".py",
   "mimetype": "text/x-python",
   "name": "python",
   "nbconvert_exporter": "python",
   "pygments_lexer": "ipython3",
   "version": "3.8.11"
  }
 },
 "nbformat": 4,
 "nbformat_minor": 4
}
